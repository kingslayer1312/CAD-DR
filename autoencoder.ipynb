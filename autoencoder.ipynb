{
 "cells": [
  {
   "cell_type": "code",
   "execution_count": null,
   "metadata": {},
   "outputs": [],
   "source": [
    "import numpy as np\n",
    "import os"
   ]
  },
  {
   "cell_type": "code",
   "execution_count": null,
   "metadata": {},
   "outputs": [],
   "source": [
    "# Function to read obj file and compute the number of vertices\n",
    "def read_obj_file(file_path):\n",
    "    vertices = []\n",
    "    with open(file_path, 'r') as file:\n",
    "        for line in file:\n",
    "            if line.startswith('v '):\n",
    "                components = line.split()[1:]\n",
    "                vertex = [float(comp) for comp in components]\n",
    "                vertices.append(vertex)\n",
    "\n",
    "    return np.array(vertices)\n",
    "\n",
    "# Sample\n",
    "sample_cad_model = read_obj_file(\"/home/hrishi/Programming/Python/CAD-DR/abc-dataset/00030037_0ef34aa1b15748a5b4ad7c0e_trimesh_027.obj\")\n",
    "print(sample_cad_model)\n",
    "print(sample_cad_model.shape)"
   ]
  },
  {
   "cell_type": "code",
   "execution_count": null,
   "metadata": {},
   "outputs": [],
   "source": [
    "import os\n",
    "\n",
    "directory_path = '/home/hrishi/Programming/Python/CAD-DR/abc-dataset/'\n",
    "file_paths = [os.path.join(directory_path, filename) for filename in os.listdir(directory_path) if os.path.isfile(os.path.join(directory_path, filename))]\n",
    "print(len(file_paths))\n",
    "print(file_paths[0])"
   ]
  },
  {
   "cell_type": "code",
   "execution_count": null,
   "metadata": {},
   "outputs": [],
   "source": [
    "import pandas as pd\n",
    "\n",
    "dataset = []\n",
    "for i in file_paths:\n",
    "    data = read_obj_file(str(i))\n",
    "    data = pd.DataFrame(data)\n",
    "    dataset.append(data)\n",
    "\n",
    "print(dataset)\n",
    "print(len(dataset))"
   ]
  },
  {
   "cell_type": "code",
   "execution_count": null,
   "metadata": {},
   "outputs": [],
   "source": [
    "# Finding the number of vertices of each model in the dataset\n",
    "max_vertices = 0\n",
    "min_vertices = 1000000\n",
    "for filename in os.listdir(\"abc-dataset\"):\n",
    "    vertices = len(read_obj_file(\"abc-dataset/\" + str(filename)))\n",
    "    # print(vertices) - can be used if we wish to see number of vertices of each model\n",
    "    if (vertices > max_vertices):\n",
    "        max_vertices = vertices\n",
    "    if (vertices < min_vertices):\n",
    "        min_vertices = vertices"
   ]
  },
  {
   "cell_type": "code",
   "execution_count": null,
   "metadata": {},
   "outputs": [],
   "source": [
    "# Maximum number of vertices\n",
    "print(max_vertices)\n",
    "print(min_vertices)\n",
    "print(dataset[0])"
   ]
  },
  {
   "cell_type": "code",
   "execution_count": null,
   "metadata": {},
   "outputs": [],
   "source": [
    "import tensorflow as tf\n",
    "\n",
    "if tf.test.is_gpu_available():\n",
    "    print(\"GPU is available and being used by TensorFlow.\")"
   ]
  },
  {
   "cell_type": "code",
   "execution_count": null,
   "metadata": {},
   "outputs": [],
   "source": [
    "import numpy as np\n",
    "import pandas as pd\n",
    "import tensorflow as tf\n",
    "from keras.layers import Input, Dense\n",
    "from keras.models import Model\n",
    "import matplotlib.pyplot as plt\n",
    "\n",
    "dataframes = dataset  \n",
    "data = np.vstack([df.values for df in dataframes])\n",
    "desired_dimensions = 1900  \n",
    "\n",
    "num_encoding_layers = 50  \n",
    "num_decoding_layers = 50  \n",
    "\n",
    "input_layer = Input(shape=(data.shape[1],))\n",
    "encoded = input_layer\n",
    "\n",
    "for _ in range(num_encoding_layers):\n",
    "    encoded = Dense(512, activation='relu')(encoded)  \n",
    "\n",
    "\n",
    "encoded = Dense(desired_dimensions, activation='relu')(encoded)\n",
    "\n",
    "decoded = encoded\n",
    "for _ in range(num_decoding_layers):\n",
    "    decoded = Dense(512, activation='relu')(decoded)  \n",
    "\n",
    "decoded = Dense(data.shape[1], activation='linear')(decoded)  \n",
    "\n",
    "autoencoder = Model(input_layer, decoded)\n",
    "autoencoder.compile(optimizer='adam', loss='mse')  \n",
    "autoencoder.fit(data, data, epochs=10, batch_size=15)  \n"
   ]
  }
 ],
 "metadata": {
  "kernelspec": {
   "display_name": "mlenv",
   "language": "python",
   "name": "python3"
  },
  "language_info": {
   "codemirror_mode": {
    "name": "ipython",
    "version": 3
   },
   "file_extension": ".py",
   "mimetype": "text/x-python",
   "name": "python",
   "nbconvert_exporter": "python",
   "pygments_lexer": "ipython3",
   "version": "3.9.18"
  },
  "orig_nbformat": 4
 },
 "nbformat": 4,
 "nbformat_minor": 2
}
