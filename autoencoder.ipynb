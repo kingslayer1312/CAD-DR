{
 "cells": [
  {
   "cell_type": "code",
   "execution_count": 61,
   "metadata": {},
   "outputs": [],
   "source": [
    "import numpy as np\n",
    "import os"
   ]
  },
  {
   "cell_type": "code",
   "execution_count": 62,
   "metadata": {},
   "outputs": [
    {
     "name": "stdout",
     "output_type": "stream",
     "text": [
      "[[  8.6       -0.        -6.25    ]\n",
      " [ -8.6       -0.        -6.25    ]\n",
      " [  8.6      -10.        -6.25    ]\n",
      " ...\n",
      " [ -2.526908  -5.088639   6.25    ]\n",
      " [  3.918603  -4.431913   6.25    ]\n",
      " [ -3.283615  -5.150998   6.25    ]]\n",
      "(22323, 3)\n"
     ]
    }
   ],
   "source": [
    "# Function to read obj file and compute the number of vertices\n",
    "def read_obj_file(file_path):\n",
    "    vertices = []\n",
    "    with open(file_path, 'r') as file:\n",
    "        for line in file:\n",
    "            if line.startswith('v '):\n",
    "                components = line.split()[1:]\n",
    "                vertex = [float(comp) for comp in components]\n",
    "                vertices.append(vertex)\n",
    "\n",
    "    return np.array(vertices)\n",
    "\n",
    "# Sample\n",
    "sample_cad_model = read_obj_file(\"/home/hrishi/Programming/Python/CAD-DR/abc-dataset/00030037_0ef34aa1b15748a5b4ad7c0e_trimesh_027.obj\")\n",
    "print(sample_cad_model)\n",
    "print(sample_cad_model.shape)"
   ]
  },
  {
   "cell_type": "code",
   "execution_count": 63,
   "metadata": {},
   "outputs": [],
   "source": [
    "# Finding the number of vertices of each model in the dataset\n",
    "max_vertices = 0\n",
    "for filename in os.listdir(\"abc-dataset\"):\n",
    "    vertices = len(read_obj_file(\"abc-dataset/\" + str(filename)))\n",
    "    # print(vertices) - can be used if we wish to see number of vertices of each model\n",
    "    if (vertices > max_vertices):\n",
    "        max_vertices = vertices"
   ]
  },
  {
   "cell_type": "code",
   "execution_count": 64,
   "metadata": {},
   "outputs": [
    {
     "name": "stdout",
     "output_type": "stream",
     "text": [
      "635732\n"
     ]
    }
   ],
   "source": [
    "# Maximum number of vertices\n",
    "print(max_vertices)"
   ]
  }
 ],
 "metadata": {
  "kernelspec": {
   "display_name": "mlenv",
   "language": "python",
   "name": "python3"
  },
  "language_info": {
   "codemirror_mode": {
    "name": "ipython",
    "version": 3
   },
   "file_extension": ".py",
   "mimetype": "text/x-python",
   "name": "python",
   "nbconvert_exporter": "python",
   "pygments_lexer": "ipython3",
   "version": "3.9.18"
  },
  "orig_nbformat": 4
 },
 "nbformat": 4,
 "nbformat_minor": 2
}
