{
 "cells": [
  {
   "cell_type": "code",
   "execution_count": 32,
   "metadata": {},
   "outputs": [],
   "source": [
    "import numpy as np\n",
    "import pandas as pd\n",
    "import matplotlib.pyplot as plt\n",
    "import os"
   ]
  },
  {
   "cell_type": "code",
   "execution_count": 33,
   "metadata": {},
   "outputs": [],
   "source": [
    "# Function to read obj file and compute the number of vertices\n",
    "def read_obj_file(file_path):\n",
    "    vertices = []\n",
    "\n",
    "    with open(file_path, 'r') as file:\n",
    "        for line in file:\n",
    "            if line.startswith('v '):\n",
    "                components = line.split()[1:]\n",
    "                vertex = [float(comp) for comp in components]\n",
    "                vertices.append(vertex)\n",
    "\n",
    "    return np.array(vertices)"
   ]
  },
  {
   "cell_type": "code",
   "execution_count": 34,
   "metadata": {},
   "outputs": [],
   "source": [
    "# Finding the number of vertices of each model in the dataset\n",
    "max_vertices = 0\n",
    "for filename in os.listdir(\"abc-dataset\"):\n",
    "    vertices = len(read_obj_file(\"abc-dataset/\" + str(filename)))\n",
    "    # print(vertices) - can be used if we wish to see number of vertices of each model\n",
    "    if (vertices > max_vertices):\n",
    "        max_vertices = vertices"
   ]
  },
  {
   "cell_type": "code",
   "execution_count": 35,
   "metadata": {},
   "outputs": [
    {
     "name": "stdout",
     "output_type": "stream",
     "text": [
      "635732\n"
     ]
    }
   ],
   "source": [
    "# Maximum number of vertices\n",
    "print(max_vertices)"
   ]
  }
 ],
 "metadata": {
  "kernelspec": {
   "display_name": "mlenv",
   "language": "python",
   "name": "python3"
  },
  "language_info": {
   "codemirror_mode": {
    "name": "ipython",
    "version": 3
   },
   "file_extension": ".py",
   "mimetype": "text/x-python",
   "name": "python",
   "nbconvert_exporter": "python",
   "pygments_lexer": "ipython3",
   "version": "3.9.18"
  },
  "orig_nbformat": 4
 },
 "nbformat": 4,
 "nbformat_minor": 2
}
