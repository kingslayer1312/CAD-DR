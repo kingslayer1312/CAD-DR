{
 "cells": [
  {
   "cell_type": "code",
   "execution_count": 2,
   "metadata": {},
   "outputs": [
    {
     "name": "stdout",
     "output_type": "stream",
     "text": [
      "Jupyter environment detected. Enabling Open3D WebVisualizer.\n",
      "[Open3D INFO] WebRTC GUI backend enabled.\n",
      "[Open3D INFO] WebRTCWindowSystem: HTTP handshake server disabled.\n"
     ]
    }
   ],
   "source": [
    "import open3d as o3d\n",
    "import numpy as np\n",
    "from pathlib import Path\n",
    "import os"
   ]
  },
  {
   "cell_type": "code",
   "execution_count": 3,
   "metadata": {},
   "outputs": [],
   "source": [
    "def list_files_in_directory(directory_path):\n",
    "    file_list = []\n",
    "    for filename in os.listdir(directory_path):\n",
    "        if os.path.isfile(os.path.join(directory_path, filename)):\n",
    "            file_list.append(filename)\n",
    "    return file_list"
   ]
  },
  {
   "cell_type": "code",
   "execution_count": 4,
   "metadata": {},
   "outputs": [],
   "source": [
    "def stl_to_ply(path):\n",
    "    imported_file_name = Path(path).stem\n",
    "    mesh = o3d.io.read_triangle_mesh(path)\n",
    "    pcd = mesh.sample_points_uniformly(number_of_points=10000)\n",
    "    exported_file_name = \"abc-dataset-ply/\" + imported_file_name + \".ply\"\n",
    "    o3d.io.write_point_cloud(exported_file_name, pcd, write_ascii=True, compressed=False, print_progress=False)"
   ]
  },
  {
   "cell_type": "code",
   "execution_count": 5,
   "metadata": {},
   "outputs": [
    {
     "name": "stdout",
     "output_type": "stream",
     "text": [
      "['Unnamed-Part 001.stl', 'Unnamed-Part 002.stl', 'Unnamed-Part 003.stl', 'Unnamed-Part 004.stl', 'Unnamed-Part 005.stl', 'Unnamed-Part 006.stl', 'Unnamed-Part 007.stl', 'Unnamed-Part 008.stl', 'Unnamed-Part 009.stl', 'Unnamed-Part 010.stl', 'Unnamed-Part 011.stl', 'Unnamed-Part 012.stl', 'Unnamed-Part 013.stl', 'Unnamed-Part 014.stl', 'Unnamed-Part 015.stl', 'Unnamed-Part 016.stl', 'Unnamed-Part 017.stl', 'Unnamed-Part 018.stl', 'Unnamed-Part 019.stl', 'Unnamed-Part 020.stl', 'Unnamed-Part 021.stl']\n"
     ]
    }
   ],
   "source": [
    "files = sorted(list_files_in_directory(\"abc-dataset-stl/\"))\n",
    "print(files)"
   ]
  },
  {
   "cell_type": "code",
   "execution_count": null,
   "metadata": {},
   "outputs": [],
   "source": [
    "for i in files:\n",
    "    path = \"abc-dataset-stl/\" + i\n",
    "    stl_to_ply(path)"
   ]
  }
 ],
 "metadata": {
  "kernelspec": {
   "display_name": "tensorflow",
   "language": "python",
   "name": "python3"
  },
  "language_info": {
   "codemirror_mode": {
    "name": "ipython",
    "version": 3
   },
   "file_extension": ".py",
   "mimetype": "text/x-python",
   "name": "python",
   "nbconvert_exporter": "python",
   "pygments_lexer": "ipython3",
   "version": "3.9.18"
  }
 },
 "nbformat": 4,
 "nbformat_minor": 2
}
