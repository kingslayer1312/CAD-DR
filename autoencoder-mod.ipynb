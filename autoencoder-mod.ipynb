{
 "cells": [
  {
   "cell_type": "code",
   "execution_count": null,
   "metadata": {},
   "outputs": [],
   "source": [
    "import os\n",
    "import numpy as np\n",
    "import pandas as pd\n",
    "import torch\n",
    "import torch.nn as nn\n",
    "import torch.optim as optim\n",
    "from torch.utils.data import Dataset, DataLoader\n",
    "import matplotlib.pyplot as plt\n",
    "from mpl_toolkits.mplot3d import Axes3D\n",
    "from pyntcloud import PyntCloud"
   ]
  },
  {
   "cell_type": "code",
   "execution_count": null,
   "metadata": {},
   "outputs": [],
   "source": [
    "class VoxelDataset(Dataset):\n",
    "    def __init__(self, data):\n",
    "        self.data = data\n",
    "\n",
    "    def __len__(self):\n",
    "        return len(self.data)\n",
    "\n",
    "    def __getitem__(self, idx):\n",
    "        sample = self.data[idx]\n",
    "        return torch.from_numpy(sample).float()"
   ]
  },
  {
   "cell_type": "code",
   "execution_count": null,
   "metadata": {},
   "outputs": [],
   "source": [
    "class Autoencoder(nn.Module):\n",
    "    def __init__(self):\n",
    "        super(Autoencoder, self).__init__()\n",
    "        self.encoder = nn.Sequential(\n",
    "            nn.Conv3d(1, 32, kernel_size=3, padding=1),\n",
    "            nn.ReLU(),\n",
    "            nn.MaxPool3d(2, padding=0),\n",
    "            nn.Conv3d(32, 64, kernel_size=3, padding=1),\n",
    "            nn.ReLU(),\n",
    "            nn.MaxPool3d(2, padding=0)\n",
    "        )\n",
    "        self.decoder = nn.Sequential(\n",
    "            nn.Conv3d(64, 64, kernel_size=3, padding=1),\n",
    "            nn.ReLU(),\n",
    "            nn.Upsample(scale_factor=2),\n",
    "            nn.Conv3d(64, 32, kernel_size=3, padding=1),\n",
    "            nn.ReLU(),\n",
    "            nn.Upsample(scale_factor=2),\n",
    "            nn.Conv3d(32, 1, kernel_size=3, padding=1),\n",
    "            nn.Sigmoid()\n",
    "        )\n",
    "\n",
    "    def forward(self, x):\n",
    "        x = self.encoder(x)\n",
    "        x = self.decoder(x)\n",
    "        return x"
   ]
  },
  {
   "cell_type": "code",
   "execution_count": null,
   "metadata": {},
   "outputs": [],
   "source": [
    "directory = \"abc-dataset-ply/\"\n",
    "files = sorted([filename for filename in os.listdir(directory) if os.path.isfile(os.path.join(directory, filename))])\n",
    "dataset = []\n",
    "\n",
    "def convert_to_binvox(path):\n",
    "    point_cloud = np.loadtxt(path, skiprows=12)[:, 0:3]\n",
    "    df = pd.DataFrame(data=point_cloud, columns=['x','y','z'])\n",
    "    cloud = PyntCloud(df)\n",
    "    voxelgrid_id = cloud.add_structure(\"voxelgrid\", n_x=64, n_y=64, n_z=64)\n",
    "    voxelgrid = cloud.structures[voxelgrid_id]\n",
    "    Binary_voxel_array = voxelgrid.get_feature_vector(mode=\"binary\")\n",
    "    dataset.append(Binary_voxel_array)\n",
    "\n",
    "for i in files:\n",
    "    path = os.path.join(directory, i)\n",
    "    convert_to_binvox(path)"
   ]
  },
  {
   "cell_type": "code",
   "execution_count": null,
   "metadata": {},
   "outputs": [],
   "source": [
    "train_data = dataset[:35]\n",
    "test_data = dataset[35:]\n",
    "\n",
    "# Create PyTorch datasets and dataloaders\n",
    "train_dataset = VoxelDataset(train_data)\n",
    "test_dataset = VoxelDataset(test_data)\n",
    "\n",
    "# Determine the device (GPU or CPU)\n",
    "device = torch.device(\"cuda:0\" if torch.cuda.is_available() else \"cpu\")\n",
    "\n",
    "# Initialize the model, optimizer, and loss function\n",
    "autoencoder = Autoencoder().to(device)\n",
    "optimizer = optim.Adam(autoencoder.parameters(), lr=0.001)\n",
    "criterion = nn.BCELoss()\n",
    "\n",
    "# Create data loaders\n",
    "train_loader = DataLoader(train_dataset, batch_size=4, shuffle=True)\n",
    "test_loader = DataLoader(test_dataset, batch_size=4, shuffle=False)"
   ]
  },
  {
   "cell_type": "code",
   "execution_count": null,
   "metadata": {},
   "outputs": [],
   "source": [
    "num_epochs = 10\n",
    "for epoch in range(num_epochs):\n",
    "    for data in train_loader:\n",
    "        optimizer.zero_grad()\n",
    "        data = data.to(device)  # Move data to the GPU\n",
    "        outputs = autoencoder(data.unsqueeze(1).to(device))\n",
    "        loss = criterion(outputs, data.unsqueeze(1).to(device))\n",
    "        loss.backward()\n",
    "        optimizer.step()\n",
    "    print(f'Epoch [{epoch + 1}/{num_epochs}], Loss: {loss.item():.4f}')"
   ]
  },
  {
   "cell_type": "code",
   "execution_count": null,
   "metadata": {},
   "outputs": [],
   "source": [
    "autoencoder.eval()\n",
    "with torch.no_grad():\n",
    "    for data in test_loader:\n",
    "        data = data.to(device)  # Move data to the GPU\n",
    "        reconstructed = autoencoder(data.unsqueeze(1).to(device))"
   ]
  },
  {
   "cell_type": "code",
   "execution_count": null,
   "metadata": {},
   "outputs": [],
   "source": [
    "import numpy as np\n",
    "import matplotlib.pyplot as plt\n",
    "from mpl_toolkits.mplot3d import Axes3D\n",
    "\n",
    "# Function to visualize 3D voxel data\n",
    "def plot_voxel(voxel, title):\n",
    "    fig = plt.figure()\n",
    "    ax = fig.add_subplot(111, projection='3d')\n",
    "    ax.voxels(voxel, facecolors='b', edgecolor='k')\n",
    "    ax.set_title(title)\n",
    "    plt.show()\n",
    "\n",
    "# Visualize the original and reconstructed voxel grids\n",
    "for i in range(len(test_data)):\n",
    "    original_voxel = test_data[i].reshape(64, 64, 64)\n",
    "    plot_voxel(original_voxel, \"Original Voxel Grid\")\n",
    "\n",
    "    reconstructed_voxel = reconstructed[i].squeeze(0).cpu().numpy().reshape(64, 64, 64)\n",
    "    plot_voxel(reconstructed_voxel, \"Reconstructed Voxel Grid\")\n"
   ]
  }
 ],
 "metadata": {
  "kernelspec": {
   "display_name": "pytorch",
   "language": "python",
   "name": "python3"
  },
  "language_info": {
   "codemirror_mode": {
    "name": "ipython",
    "version": 3
   },
   "file_extension": ".py",
   "mimetype": "text/x-python",
   "name": "python",
   "nbconvert_exporter": "python",
   "pygments_lexer": "ipython3",
   "version": "3.8.18"
  }
 },
 "nbformat": 4,
 "nbformat_minor": 2
}
