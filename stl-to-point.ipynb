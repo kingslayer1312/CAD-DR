{
 "cells": [
  {
   "cell_type": "code",
   "execution_count": null,
   "metadata": {},
   "outputs": [],
   "source": [
    "import open3d as o3d\n",
    "import os"
   ]
  },
  {
   "cell_type": "code",
   "execution_count": null,
   "metadata": {},
   "outputs": [],
   "source": [
    "def stl_to_point_cloud(path):\n",
    "    file_name = os.path.splitext(os.path.basename(path))[0]\n",
    "    mesh = o3d.io.read_triangle_mesh(path)\n",
    "\n",
    "    pcd = o3d.geometry.PointCloud()\n",
    "    pcd.points = mesh.vertices\n",
    "    pcd.colors = mesh.vertex_colors\n",
    "    pcd.normals = mesh.vertex_normals\n",
    "    pointcloud = mesh.sample_points_poisson_disk(5000)\n",
    "\n",
    "    export_path = \"abc-dataset-point/\" + file_name + \".asc\"\n",
    "    o3d.io.write_point_cloud(export_path, pointcloud, write_ascii=True, compressed=False, print_progress=False)"
   ]
  },
  {
   "cell_type": "code",
   "execution_count": null,
   "metadata": {},
   "outputs": [],
   "source": [
    "stl_to_point_cloud(\"abc-dataset-stl/00030000_02de85bae48146e7ae9c883e_step_001.STL\")"
   ]
  }
 ],
 "metadata": {
  "kernelspec": {
   "display_name": "tensorflow",
   "language": "python",
   "name": "python3"
  },
  "language_info": {
   "codemirror_mode": {
    "name": "ipython",
    "version": 3
   },
   "file_extension": ".py",
   "mimetype": "text/x-python",
   "name": "python",
   "nbconvert_exporter": "python",
   "pygments_lexer": "ipython3",
   "version": "3.10.13"
  }
 },
 "nbformat": 4,
 "nbformat_minor": 2
}
