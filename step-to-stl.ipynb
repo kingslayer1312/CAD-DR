{
 "cells": [
  {
   "cell_type": "code",
   "execution_count": null,
   "metadata": {},
   "outputs": [],
   "source": [
    "import trimesh\n",
    "import os"
   ]
  },
  {
   "cell_type": "code",
   "execution_count": null,
   "metadata": {},
   "outputs": [],
   "source": [
    "def step_to_stl(path):\n",
    "    file_name = os.path.splitext(os.path.basename(path))[0]\n",
    "    mesh = trimesh.Trimesh(**trimesh.interfaces.gmsh.load_gmsh(file_name = path, gmsh_args = [\n",
    "                (\"Mesh.Algorithm\", 1), #Different algorithm types, check them out\n",
    "                (\"Mesh.CharacteristicLengthFromCurvature\", 50), #Tuning the smoothness, + smothness = + time\n",
    "                (\"General.NumThreads\", 10), #Multithreading capability\n",
    "                (\"Mesh.MinimumCirclePoints\", 32)]))\n",
    "    mesh.export(\"abc-dataset-stl/\" + file_name + \".STL\")"
   ]
  },
  {
   "cell_type": "code",
   "execution_count": null,
   "metadata": {},
   "outputs": [],
   "source": [
    "step_to_stl(\"abc-dataset-step/00030000_02de85bae48146e7ae9c883e_step_001.step\")"
   ]
  }
 ],
 "metadata": {
  "kernelspec": {
   "display_name": "pytorch",
   "language": "python",
   "name": "python3"
  },
  "language_info": {
   "codemirror_mode": {
    "name": "ipython",
    "version": 3
   },
   "file_extension": ".py",
   "mimetype": "text/x-python",
   "name": "python",
   "nbconvert_exporter": "python",
   "pygments_lexer": "ipython3",
   "version": "3.10.13"
  }
 },
 "nbformat": 4,
 "nbformat_minor": 2
}
